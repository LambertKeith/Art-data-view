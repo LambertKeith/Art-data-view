{
 "cells": [
  {
   "cell_type": "code",
   "execution_count": 7,
   "metadata": {},
   "outputs": [
    {
     "name": "stdout",
     "output_type": "stream",
     "text": [
      "              货号          原始货号           款号 工厂代码        工厂货号 现管家婆鞋垫材质  \\\n",
      "0            NaN           NaN          NaN  NaN         NaN      NaN   \n",
      "1    QF542921W25   QF542921W25    QF542921W  QF5       999-1       猪皮   \n",
      "2   C0112071LF01   C0112071L01   C0112071LF   01  21A5150-90       牛皮   \n",
      "3  QA1522133WC45  QA1522133W45  QA1522133WC  QA1      2721-3       猪皮   \n",
      "4    C1513157D01   C1513157D01    C1513157D   15   15-2573-1       牛皮   \n",
      "\n",
      "  现管家婆大底材质 现管家婆内里材质     现管家婆鞋面材质   组别  ...     成本      品名 季节分类      季节  三级分类  \\\n",
      "0      NaN      NaN          NaN  NaN  ...    NaN     NaN  NaN     NaN   NaN   \n",
      "1  聚氨酯+TPU       织物       合成革+织物   女鞋  ...  112.0    女休闲鞋   春夏  24年夏季款  女休闲鞋   \n",
      "2      聚氨酯    猪皮+织物    牛皮革（头层牛皮）   商务  ...   95.0  男休闲冲孔鞋   夏季  21年夏季款  男休闲鞋   \n",
      "3      发泡底   合成革+织物  织物+复合材料+合成革   女鞋  ...   85.0    女休闲鞋   春夏  22年夏季款  女休闲鞋   \n",
      "4      橡胶底      猪皮里    牛皮革（头层牛皮）   商务  ...  116.0   男商务皮鞋   春秋  21年秋季款  男商务鞋   \n",
      "\n",
      "                  首单日期             唯品首次售卖时间             得物首次售卖时间 最新上下线状态  \\\n",
      "0                  NaN                  NaN                  NaN     NaN   \n",
      "1  2024-04-12 00:00:00          2024-04-22   2024-04-26 00:00:00    商品上线   \n",
      "2  2021-03-10 00:00:00           2023-03-13  2023-03-28 00:00:00    商品上线   \n",
      "3  2023-02-20 00:00:00           2023-03-06           2023-03-06    商品上线   \n",
      "4  2021-08-06 00:00:00  2021-08-26 00:00:00  2022-12-09 17:02:29    商品上线   \n",
      "\n",
      "  原始货号上线状态  \n",
      "0      NaN  \n",
      "1     商品上线  \n",
      "2     商品上线  \n",
      "3     商品上线  \n",
      "4     商品上线  \n",
      "\n",
      "[5 rows x 21 columns]\n",
      "Table 'data_app_product' created and data inserted successfully.\n"
     ]
    }
   ],
   "source": [
    "import pandas as pd\n",
    "from sqlalchemy import create_engine, MetaData\n",
    "from sqlalchemy.types import Integer, String, Float, DateTime\n",
    "\n",
    "# Step 1: 读取Excel文件\n",
    "file_path = r\"C:\\Users\\keith\\Desktop\\美工组-无图片.xlsx\"\n",
    "df = pd.read_excel(file_path)\n",
    "\n",
    "# 查看数据\n",
    "print(df.head())\n",
    "\n",
    "# Step 2: 创建数据库连接\n",
    "db_username = 'root'  # 替换为你的数据库用户名\n",
    "db_password = '111111'  # 替换为你的数据库密码\n",
    "db_host = '192.168.10.207'  # 替换为你的数据库主机地址\n",
    "db_port = '3306'  # 通常是3306\n",
    "db_name = 'art_data_demo'  # 替换为你的数据库名称\n",
    "\n",
    "engine = create_engine(f'mysql+mysqlconnector://{db_username}:{db_password}@{db_host}:{db_port}/{db_name}')\n",
    "metadata = MetaData()\n",
    "\n",
    "# Step 3: 自动创建表并插入数据到MySQL数据库\n",
    "table_name = 'data_app_product'  # 替换为你的目标表名\n",
    "\n",
    "# 定义数据类型映射\n",
    "dtype_mapping = {\n",
    "    'int64': Integer(),\n",
    "    'float64': Float(),\n",
    "    'object': String(255),\n",
    "    'datetime64[ns]': DateTime()\n",
    "}\n",
    "\n",
    "# 生成SQLAlchemy兼容的数据类型字典\n",
    "dtype = {col: dtype_mapping[str(dtype)] for col, dtype in df.dtypes.items()}\n",
    "\n",
    "try:\n",
    "    df.to_sql(table_name, con=engine, if_exists='replace', index=False, dtype=dtype)\n",
    "    print(f\"Table '{table_name}' created and data inserted successfully.\")\n",
    "except Exception as e:\n",
    "    print(f\"Error inserting data: {e}\")\n"
   ]
  }
 ],
 "metadata": {
  "kernelspec": {
   "display_name": ".venv",
   "language": "python",
   "name": "python3"
  },
  "language_info": {
   "codemirror_mode": {
    "name": "ipython",
    "version": 3
   },
   "file_extension": ".py",
   "mimetype": "text/x-python",
   "name": "python",
   "nbconvert_exporter": "python",
   "pygments_lexer": "ipython3",
   "version": "3.10.6"
  }
 },
 "nbformat": 4,
 "nbformat_minor": 2
}
